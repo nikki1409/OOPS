{
 "cells": [
  {
   "cell_type": "code",
   "execution_count": 12,
   "metadata": {},
   "outputs": [
    {
     "name": "stdout",
     "output_type": "stream",
     "text": [
      "Enter a Number234\n",
      "The Sum of Squares of Digits of number 234 is:  29\n"
     ]
    }
   ],
   "source": [
    "#question-1\n",
    "\n",
    "def sqnum(n)        #defining function sqnum which computes the sum of square of digits of number\n",
    "    s=0             #initialiuzing the sum to 0\n",
    "    while(n/10 > 0):    #loop till the value of n/10>0\n",
    "        r=n%10          # finding the remainder\n",
    "        s+=r**2         #adding the square of digit to variable sum\n",
    "        n=n//10         #dividing the number\n",
    "    return s           #returning the sum\n",
    "sqdnumber=int(input(\"Enter a Number\"))       #taking the number as input from user\n",
    "sqdNumber_result=sqnum(sqdnumber)            #calling the function\n",
    "print(\"The Sum of Squares of Digits of number\",sqdnumber,\"is: \",sqdNumber_result)    #printing the sum value"
   ]
  },
  {
   "cell_type": "code",
   "execution_count": 20,
   "metadata": {},
   "outputs": [
    {
     "name": "stdout",
     "output_type": "stream",
     "text": [
      "enter number5555\n",
      "5555  is a Happy number\n"
     ]
    }
   ],
   "source": [
    "\n",
    "#question-2\n",
    "\n",
    "def HappyNum(n):  #defining the function happynum\n",
    "    s=0           \n",
    "    for i in range(0,10):\n",
    "        '''\n",
    "        finding the sum of square of digit of number\n",
    "        '''\n",
    "        while(n > 0):\n",
    "            r=n%10\n",
    "            s+=r**2\n",
    "            n=n//10\n",
    "        if(s==1):       #checking if the value of sum is 1\n",
    "            print(num,\" is a Happy number\")      \n",
    "            break       # break out of the loop\n",
    "        else:\n",
    "            n=s      \n",
    "            s=0\n",
    "            continue   # continue with the next iteration of the loop if the s is not 1\n",
    "    if(s!=1):\n",
    "        print(num,\" is not a Happy Number\")\n",
    "\n",
    "n=int(input(\"enter number\"))      #taking the number as input from user\n",
    "num=n\n",
    "HappyNum(n)  #calling the function\n"
   ]
  },
  {
   "cell_type": "code",
   "execution_count": null,
   "metadata": {},
   "outputs": [],
   "source": []
  }
 ],
 "metadata": {
  "kernelspec": {
   "display_name": "Python 3",
   "language": "python",
   "name": "python3"
  },
  "language_info": {
   "codemirror_mode": {
    "name": "ipython",
    "version": 3
   },
   "file_extension": ".py",
   "mimetype": "text/x-python",
   "name": "python",
   "nbconvert_exporter": "python",
   "pygments_lexer": "ipython3",
   "version": "3.7.9"
  }
 },
 "nbformat": 4,
 "nbformat_minor": 4
}
